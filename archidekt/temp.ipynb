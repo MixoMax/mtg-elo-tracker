{
 "cells": [
  {
   "cell_type": "code",
   "execution_count": 7,
   "metadata": {},
   "outputs": [],
   "source": [
    "import json\n",
    "import requests\n",
    "from dataclasses import dataclass"
   ]
  },
  {
   "cell_type": "code",
   "execution_count": 8,
   "metadata": {},
   "outputs": [],
   "source": [
    "@dataclass\n",
    "class MtgDeck:\n",
    "    name: str\n",
    "    commander: list[str]\n",
    "    decklist: list[str]\n",
    "    elo_rating: int\n",
    "    owner_id: int"
   ]
  },
  {
   "cell_type": "code",
   "execution_count": 9,
   "metadata": {},
   "outputs": [],
   "source": [
    "deck_url = \"https://archidekt.com/decks/8298595/green_enchantments\"\n",
    "response = requests.get(deck_url)\n",
    "deck = response.text\n",
    "\n",
    "deck_json_raw = deck.split('{\"deck\":')[1]\n",
    "\n",
    "num_curly_braces = 0\n",
    "deck_json = \"\"\n",
    "for char in deck_json_raw:\n",
    "    if char == \"{\":\n",
    "        num_curly_braces += 1\n",
    "    elif char == \"}\":\n",
    "        num_curly_braces -= 1\n",
    "    if num_curly_braces > 0:\n",
    "        deck_json += char\n",
    "    else:\n",
    "        break\n",
    "\n",
    "deck_json += \"}\"\n",
    "deck_json = json.loads(deck_json)"
   ]
  },
  {
   "cell_type": "code",
   "execution_count": 15,
   "metadata": {},
   "outputs": [
    {
     "name": "stdout",
     "output_type": "stream",
     "text": [
      "green enchantments\n",
      "384332\n",
      "['Autumn Willow']\n",
      "['Yavimaya Enchantress', \"Enchantress's Presence\", 'Argothian Enchantress', 'Audacity', 'Boar Umbra', 'Eidolon of Blossoms', 'Setessan Champion', 'Colossification', 'Blanchwood Armor', 'Sanctum Weaver', \"Rogue's Passage\", 'Beast Within', 'Ancestral Mask', 'Season of Growth', 'Treefolk Umbra', 'Bear Umbra', 'Snake Umbra', 'Spider Umbra', 'Indomitable Might', 'Verduran Enchantress', 'Armor of Thorns', 'Lion Umbra', \"Druid's Call\", 'Mark of Sakiko', 'Keen Sense', 'Sixth Sense', 'One with Nature', 'Helm of the Gods', 'Thran Power Suit', 'Argentum Armor', 'Wild Growth', 'Venomous Fangs', 'Blackblade Reforged', \"Trailblazer's Boots\", \"Hunter's Insight\", 'Cultivate', 'Rancor', 'Sol Ring', 'Fireshrieker', 'Loxodon Warhammer', 'Arcane Signet', 'Mithril Coat', 'Emerald Medallion', 'Tanuki Transplanter', 'Forest', 'Herald of the Pantheon', 'Generous Visitor', \"Kodama's Reach\", 'Tajuru Preserver', 'Rampant Growth', \"Gaea's Embrace\", 'Fertile Ground', 'Shadowspear', 'Trollhide', 'Castle Garenbrig', 'Destiny Spinner', 'Epic Proportions', 'Overgrowth', 'Nykthos, Shrine to Nyx', \"Witch's Clinic\", 'Heroic Intervention', 'Prodigious Growth', 'Skyshroud Claim', 'Aura Gnarlid', 'Drove of Elves', 'Fog', 'Hurricane']\n",
      "MtgDeck(name='green enchantments', commander=['Autumn Willow'], decklist=['Yavimaya Enchantress', \"Enchantress's Presence\", 'Argothian Enchantress', 'Audacity', 'Boar Umbra', 'Eidolon of Blossoms', 'Setessan Champion', 'Colossification', 'Blanchwood Armor', 'Sanctum Weaver', \"Rogue's Passage\", 'Beast Within', 'Ancestral Mask', 'Season of Growth', 'Treefolk Umbra', 'Bear Umbra', 'Snake Umbra', 'Spider Umbra', 'Indomitable Might', 'Verduran Enchantress', 'Armor of Thorns', 'Lion Umbra', \"Druid's Call\", 'Mark of Sakiko', 'Keen Sense', 'Sixth Sense', 'One with Nature', 'Helm of the Gods', 'Thran Power Suit', 'Argentum Armor', 'Wild Growth', 'Venomous Fangs', 'Blackblade Reforged', \"Trailblazer's Boots\", \"Hunter's Insight\", 'Cultivate', 'Rancor', 'Sol Ring', 'Fireshrieker', 'Loxodon Warhammer', 'Arcane Signet', 'Mithril Coat', 'Emerald Medallion', 'Tanuki Transplanter', 'Forest', 'Herald of the Pantheon', 'Generous Visitor', \"Kodama's Reach\", 'Tajuru Preserver', 'Rampant Growth', \"Gaea's Embrace\", 'Fertile Ground', 'Shadowspear', 'Trollhide', 'Castle Garenbrig', 'Destiny Spinner', 'Epic Proportions', 'Overgrowth', 'Nykthos, Shrine to Nyx', \"Witch's Clinic\", 'Heroic Intervention', 'Prodigious Growth', 'Skyshroud Claim', 'Aura Gnarlid', 'Drove of Elves', 'Fog', 'Hurricane'], elo_rating=400, owner_id=384332)\n"
     ]
    },
    {
     "data": {
      "text/plain": [
       "dict_keys(['name', 'description', 'format', 'game', 'id', 'private', 'unlisted', 'theorycrafted', 'points', 'sorting', 'view', 'stack', 'actionStack', 'undoneActionStack', 'categories', 'owner', 'ownerid', 'editors', 'ownerAvatar', 'ownerFrame', 'ownerReferrerEnum', 'ckAffiliate', 'tcgAffiliate', 'saving', 'wsConnectionOpen', 'updatedAt', 'createdAt', 'commentid', 'colorLabels', 'voteInput', 'viewCount', 'parentFolder', 'playgroupDeckUrl', 'warningCards', 'cardMap', 'featured', 'customFeatured', 'menuCardId', 'openMenuCardToEditions', 'controlledStackOptions', 'userGroup', 'snapshotMeta', 'bookmarked', 'deckTags', 'cardPackage'])"
      ]
     },
     "execution_count": 15,
     "metadata": {},
     "output_type": "execute_result"
    }
   ],
   "source": [
    "deck_json.keys()\n",
    "\n",
    "deck_name = deck_json[\"name\"]\n",
    "owner_id = deck_json[\"ownerid\"]\n",
    "decklist_json = deck_json[\"cardMap\"]\n",
    "commanders = []\n",
    "decklist = []\n",
    "for key, value in decklist_json.items():\n",
    "    card_name = value[\"name\"]\n",
    "    if \"Commander\" in value[\"categories\"]:\n",
    "        commanders.append(card_name)\n",
    "    else:\n",
    "        decklist.append(card_name)\n",
    "\n",
    "print(deck_name)\n",
    "print(owner_id)\n",
    "print(commanders)\n",
    "print(decklist)\n",
    "\n",
    "deck = MtgDeck(deck_name, commanders, decklist, 400, owner_id)\n",
    "print(deck)\n",
    "\n",
    "deck_json.keys()"
   ]
  }
 ],
 "metadata": {
  "kernelspec": {
   "display_name": "base",
   "language": "python",
   "name": "python3"
  },
  "language_info": {
   "codemirror_mode": {
    "name": "ipython",
    "version": 3
   },
   "file_extension": ".py",
   "mimetype": "text/x-python",
   "name": "python",
   "nbconvert_exporter": "python",
   "pygments_lexer": "ipython3",
   "version": "3.12.3"
  }
 },
 "nbformat": 4,
 "nbformat_minor": 2
}
